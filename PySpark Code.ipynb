{
 "cells": [
  {
   "cell_type": "code",
   "execution_count": 2,
   "metadata": {},
   "outputs": [],
   "source": [
    "import findspark  #Findspark can add a startup file to the current IPython profile\n",
    "findspark.init()  #to make pyspark importable as a regular library.\n",
    "import pyspark"
   ]
  },
  {
   "cell_type": "code",
   "execution_count": 3,
   "metadata": {},
   "outputs": [],
   "source": [
    "from pyspark.sql import SparkSession # A SparkSession can be used create DataFrame, execute SQL over tables, cache tables, and read parquet files\n",
    "from pyspark.sql.functions import col, count, desc, sum\n"
   ]
  },
  {
   "cell_type": "code",
   "execution_count": 13,
   "metadata": {},
   "outputs": [],
   "source": [
    "if __name__ == '__main__':\n",
    "    spark = SparkSession.builder.getOrCreate()  #getOrCreate () Gets an existing SparkSession or,if there is no existing one, creates a new one based on the options set in this builder\n",
    "    "
   ]
  },
  {
   "cell_type": "code",
   "execution_count": 15,
   "metadata": {},
   "outputs": [
    {
     "name": "stdout",
     "output_type": "stream",
     "text": [
      "+--------+--------------+------------+------------+------------+-----+------------+-------+----------------------------+--------------+---------+--------+-----------+------------+-----------+-------------+-----------------+-----------------+----------------+\n",
      "|      ID|Isconfidential| ProjectName|      Street|        City|State|     Zipcode|Country|LEEDSystemVersionDisplayName|PointsAchieved|CertLevel|CertDate|IsCertified|  OwnerTypes|GrossSqFoot|TotalPropArea|     ProjectTypes|OwnerOrganization|RegistrationDate|\n",
      "+--------+--------------+------------+------------+------------+-----+------------+-------+----------------------------+--------------+---------+--------+-----------+------------+-----------+-------------+-----------------+-----------------+----------------+\n",
      "|10000001|           Yes|Confidential|Confidential|Confidential|   IN|Confidential|     US|                 LEED-NC 2.0|          null|     null|    null|         No|Confidential|     291000|       130637|Commercial Office|     Confidential|   6/1/2000 0:00|\n",
      "|10000003|           Yes|Confidential|Confidential|Confidential|   NY|Confidential|     US|                 LEED-NC 2.1|          null|     null|    null|         No|Confidential|     190000|         null|             null|     Confidential|  9/19/2006 0:00|\n",
      "|10000012|           Yes|Confidential|Confidential|Confidential|   WA|Confidential|     US|                 LEED-NC 2.0|          null|     null|    null|         No|Confidential|      60840|       130637|   K-12 Education|     Confidential|  7/21/2000 0:00|\n",
      "|10000014|           Yes|Confidential|Confidential|Confidential|   VA|Confidential|     US|                 LEED-NC 2.0|          null|     null|    null|         No|Confidential|      23253|         null|             null|     Confidential|   8/1/2000 0:00|\n",
      "|10000022|           Yes|Confidential|Confidential|Confidential|   WA|Confidential|     US|                 LEED-NC 2.0|          null|     null|    null|         No|Confidential|       8045|       130637|Commercial Office|     Confidential|  9/25/2000 0:00|\n",
      "+--------+--------------+------------+------------+------------+-----+------------+-------+----------------------------+--------------+---------+--------+-----------+------------+-----------+-------------+-----------------+-----------------+----------------+\n",
      "only showing top 5 rows\n",
      "\n"
     ]
    }
   ],
   "source": [
    "# Reading Parquet file\n",
    "\n",
    "df_1 = spark.read.parquet(\"D:/Data/confidential.snappy.parquet\") #\n",
    "df_1.show(5)\n",
    "    "
   ]
  },
  {
   "cell_type": "code",
   "execution_count": 18,
   "metadata": {},
   "outputs": [
    {
     "name": "stdout",
     "output_type": "stream",
     "text": [
      "root\n",
      " |-- ID: string (nullable = true)\n",
      " |-- Isconfidential: string (nullable = true)\n",
      " |-- ProjectName: string (nullable = true)\n",
      " |-- Street: string (nullable = true)\n",
      " |-- City: string (nullable = true)\n",
      " |-- State: string (nullable = true)\n",
      " |-- Zipcode: string (nullable = true)\n",
      " |-- Country: string (nullable = true)\n",
      " |-- LEEDSystemVersionDisplayName: string (nullable = true)\n",
      " |-- PointsAchieved: string (nullable = true)\n",
      " |-- CertLevel: string (nullable = true)\n",
      " |-- CertDate: string (nullable = true)\n",
      " |-- IsCertified: string (nullable = true)\n",
      " |-- OwnerTypes: string (nullable = true)\n",
      " |-- GrossSqFoot: string (nullable = true)\n",
      " |-- TotalPropArea: string (nullable = true)\n",
      " |-- ProjectTypes: string (nullable = true)\n",
      " |-- OwnerOrganization: string (nullable = true)\n",
      " |-- RegistrationDate: string (nullable = true)\n",
      "\n"
     ]
    }
   ],
   "source": [
    "# provides an easily readable view of the DataFrame schema \n",
    "df_1.printSchema()  "
   ]
  },
  {
   "cell_type": "code",
   "execution_count": 20,
   "metadata": {},
   "outputs": [
    {
     "name": "stdout",
     "output_type": "stream",
     "text": [
      "+--------+--------------+--------------------+--------------------+----------+-----+-------+-------+----------------------------+--------------+---------+---------------+-----------+----------------+-----------+-------------+--------------------+--------------------+----------------+\n",
      "|      ID|Isconfidential|         ProjectName|              Street|      City|State|Zipcode|Country|LEEDSystemVersionDisplayName|PointsAchieved|CertLevel|       CertDate|IsCertified|      OwnerTypes|GrossSqFoot|TotalPropArea|        ProjectTypes|   OwnerOrganization|RegistrationDate|\n",
      "+--------+--------------+--------------------+--------------------+----------+-----+-------+-------+----------------------------+--------------+---------+---------------+-----------+----------------+-----------+-------------+--------------------+--------------------+----------------+\n",
      "|10000000|            No|PNC Firstside Center|21 South Putt Cor...|Pittsburgh|   PA|  15219|     US|                 LEED-NC 2.0|            33|   Silver| 10/1/2000 0:00|        Yes|     Profit Org.|     647000|       202923|   Commercial Office|L.D. Astorino Com...|  3/31/2000 0:00|\n",
      "|10000002|            No|Bethel Commercial...|       53 W. Jackson|   Chicago|   IL|  60604|     US|                 LEED-NC 2.0|            45|     Gold| 11/5/2007 0:00|        Yes| Non-Profit Org.|      22592|        27500|Commercial Office...|     Bethel New Life|   8/1/2001 0:00|\n",
      "|10000004|            No|The Chicago Cente...|445 N. Sacramento...|   Chicago|   IL|  60612|     US|           LEED-NC 1.0 Pilot|            38| Platinum| 6/17/2003 0:00|        Yes|Local Government|      28356|       130637|Industrial, Comme...|City of Chicago D...|   6/1/2000 0:00|\n",
      "|10000005|            No|625 Broadway Offi...|        625 Broadway|    Albany|   NY|  12207|     US|                 LEED-NC 2.0|            33|   Silver| 6/11/2002 0:00|        Yes|Local Government|     470000|         null|   Commercial Office|New York State De...|   6/9/2000 0:00|\n",
      "|10000006|            No|Seattle Central L...|  1000 Fourth Avenue|   Seattle|   WA|  98104|     US|                 LEED-NC 2.0|            34|   Silver|11/22/2004 0:00|        Yes|Local Government|     360000|        60964|             Library|City of Seattle -...|  6/20/2000 0:00|\n",
      "+--------+--------------+--------------------+--------------------+----------+-----+-------+-------+----------------------------+--------------+---------+---------------+-----------+----------------+-----------+-------------+--------------------+--------------------+----------------+\n",
      "only showing top 5 rows\n",
      "\n"
     ]
    }
   ],
   "source": [
    "# Reading CSV file\n",
    "df_2 = spark.read.csv(\"D:/Data/nonConfidential.csv\", header=True)\n",
    "df_2.show(5)"
   ]
  },
  {
   "cell_type": "code",
   "execution_count": 19,
   "metadata": {},
   "outputs": [
    {
     "name": "stdout",
     "output_type": "stream",
     "text": [
      "root\n",
      " |-- ID: string (nullable = true)\n",
      " |-- Isconfidential: string (nullable = true)\n",
      " |-- ProjectName: string (nullable = true)\n",
      " |-- Street: string (nullable = true)\n",
      " |-- City: string (nullable = true)\n",
      " |-- State: string (nullable = true)\n",
      " |-- Zipcode: string (nullable = true)\n",
      " |-- Country: string (nullable = true)\n",
      " |-- LEEDSystemVersionDisplayName: string (nullable = true)\n",
      " |-- PointsAchieved: string (nullable = true)\n",
      " |-- CertLevel: string (nullable = true)\n",
      " |-- CertDate: string (nullable = true)\n",
      " |-- IsCertified: string (nullable = true)\n",
      " |-- OwnerTypes: string (nullable = true)\n",
      " |-- GrossSqFoot: string (nullable = true)\n",
      " |-- TotalPropArea: string (nullable = true)\n",
      " |-- ProjectTypes: string (nullable = true)\n",
      " |-- OwnerOrganization: string (nullable = true)\n",
      " |-- RegistrationDate: string (nullable = true)\n",
      "\n"
     ]
    }
   ],
   "source": [
    "# Provides an easily readable view of the DataFrame schema \n",
    "df_2.printSchema()"
   ]
  },
  {
   "cell_type": "code",
   "execution_count": 21,
   "metadata": {},
   "outputs": [
    {
     "name": "stdout",
     "output_type": "stream",
     "text": [
      "+--------+--------------+------------+------------+------------+-----+------------+-------+----------------------------+--------------+---------+--------+-----------+------------+-----------+-------------+-----------------+-----------------+----------------+\n",
      "|      ID|Isconfidential| ProjectName|      Street|        City|State|     Zipcode|Country|LEEDSystemVersionDisplayName|PointsAchieved|CertLevel|CertDate|IsCertified|  OwnerTypes|GrossSqFoot|TotalPropArea|     ProjectTypes|OwnerOrganization|RegistrationDate|\n",
      "+--------+--------------+------------+------------+------------+-----+------------+-------+----------------------------+--------------+---------+--------+-----------+------------+-----------+-------------+-----------------+-----------------+----------------+\n",
      "|10000001|           Yes|Confidential|Confidential|Confidential|   IN|Confidential|     US|                 LEED-NC 2.0|          null|     null|    null|         No|Confidential|     291000|       130637|Commercial Office|     Confidential|   6/1/2000 0:00|\n",
      "|10000003|           Yes|Confidential|Confidential|Confidential|   NY|Confidential|     US|                 LEED-NC 2.1|          null|     null|    null|         No|Confidential|     190000|         null|             null|     Confidential|  9/19/2006 0:00|\n",
      "|10000012|           Yes|Confidential|Confidential|Confidential|   WA|Confidential|     US|                 LEED-NC 2.0|          null|     null|    null|         No|Confidential|      60840|       130637|   K-12 Education|     Confidential|  7/21/2000 0:00|\n",
      "|10000014|           Yes|Confidential|Confidential|Confidential|   VA|Confidential|     US|                 LEED-NC 2.0|          null|     null|    null|         No|Confidential|      23253|         null|             null|     Confidential|   8/1/2000 0:00|\n",
      "|10000022|           Yes|Confidential|Confidential|Confidential|   WA|Confidential|     US|                 LEED-NC 2.0|          null|     null|    null|         No|Confidential|       8045|       130637|Commercial Office|     Confidential|  9/25/2000 0:00|\n",
      "+--------+--------------+------------+------------+------------+-----+------------+-------+----------------------------+--------------+---------+--------+-----------+------------+-----------+-------------+-----------------+-----------------+----------------+\n",
      "only showing top 5 rows\n",
      "\n"
     ]
    }
   ],
   "source": [
    "# Combine Two DataFrame\n",
    "df = df_1.unionAll(df_2)\n",
    "df.show(5)\n",
    "\n",
    "# UnionAll() function row binds two dataframe in pyspark and does not removes the duplicates this is called union all in pyspark."
   ]
  },
  {
   "cell_type": "code",
   "execution_count": 22,
   "metadata": {},
   "outputs": [
    {
     "name": "stdout",
     "output_type": "stream",
     "text": [
      "57\n"
     ]
    }
   ],
   "source": [
    " # 1. How many LEED projects are there in Virginia (including all types of project types  and versions of LEED)?\n",
    "    \n",
    "virginia_df = df.where(col(\"City\").contains(\"Virginia\"))\n",
    "print(virginia_df.count())"
   ]
  },
  {
   "cell_type": "code",
   "execution_count": 23,
   "metadata": {},
   "outputs": [
    {
     "name": "stdout",
     "output_type": "stream",
     "text": [
      "+--------------------+-----+\n",
      "|          OwnerTypes|count|\n",
      "+--------------------+-----+\n",
      "|Government Use: F...|   11|\n",
      "|  Federal Government|    4|\n",
      "|         Profit Org.|    4|\n",
      "|Educational: K-12...|    2|\n",
      "|                null|    0|\n",
      "|          Individual|    2|\n",
      "|Corporate: Privat...|    5|\n",
      "|Government Use: L...|    1|\n",
      "|    State Government|    3|\n",
      "|               Other|    1|\n",
      "|Government Use: L...|    6|\n",
      "|Educational: Coll...|    1|\n",
      "|Government Use: O...|    1|\n",
      "|Investor: REIT, P...|    2|\n",
      "|    Local Government|    7|\n",
      "|     Non-Profit Org.|    2|\n",
      "+--------------------+-----+\n",
      "\n"
     ]
    }
   ],
   "source": [
    "# 2. What is the number of LEED projects in Virginia by owner type?\n",
    "\n",
    "virginia_df.groupby(\"OwnerTypes\").agg(count(\"OwnerTypes\").alias(\"count\")).show()\n"
   ]
  },
  {
   "cell_type": "code",
   "execution_count": 11,
   "metadata": {},
   "outputs": [
    {
     "name": "stdout",
     "output_type": "stream",
     "text": [
      "+-----------------+\n",
      "|Total_GrossSqFoot|\n",
      "+-----------------+\n",
      "|      2.8501411E7|\n",
      "+-----------------+\n",
      "\n"
     ]
    }
   ],
   "source": [
    "#What is the total Gross Square Feet of building space that is LEED-certified in  Virginia?   \n",
    "\n",
    "virginia_df.where(col(\"IsCertified\") == \"Yes\").agg(sum(\"GrossSqFoot\").alias(\"Total_GrossSqFoot\")).show()\n",
    "\n"
   ]
  },
  {
   "cell_type": "code",
   "execution_count": 12,
   "metadata": {},
   "outputs": [
    {
     "name": "stdout",
     "output_type": "stream",
     "text": [
      "+-------+-----+\n",
      "|Zipcode|count|\n",
      "+-------+-----+\n",
      "|  23462|   11|\n",
      "+-------+-----+\n",
      "only showing top 1 row\n",
      "\n"
     ]
    }
   ],
   "source": [
    "#What Zip Code in Virginia has the highest number of projects? \n",
    "zipcode_df = virginia_df.groupby(\"Zipcode\").agg(count(\"Zipcode\").alias(\"count\"))\n",
    "zipcode_df.orderBy(col(\"count\").desc()).show(1)"
   ]
  },
  {
   "cell_type": "code",
   "execution_count": null,
   "metadata": {},
   "outputs": [],
   "source": []
  }
 ],
 "metadata": {
  "kernelspec": {
   "display_name": "Python 3",
   "language": "python",
   "name": "python3"
  },
  "language_info": {
   "codemirror_mode": {
    "name": "ipython",
    "version": 3
   },
   "file_extension": ".py",
   "mimetype": "text/x-python",
   "name": "python",
   "nbconvert_exporter": "python",
   "pygments_lexer": "ipython3",
   "version": "3.8.3"
  }
 },
 "nbformat": 4,
 "nbformat_minor": 4
}
